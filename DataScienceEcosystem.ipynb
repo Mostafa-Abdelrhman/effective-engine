{
 "cells": [
  {
   "cell_type": "markdown",
   "id": "8df3585e-38da-4f0d-a7dc-fe52e1abda44",
   "metadata": {},
   "source": [
    "**Exercise 2: Create markdown cell with title of the notebook**"
   ]
  },
  {
   "cell_type": "markdown",
   "id": "525ab9ef-ddea-4eff-a3c5-ff8b9c280fb6",
   "metadata": {},
   "source": [
    "# Data Science Tools and Ecosystem"
   ]
  },
  {
   "cell_type": "markdown",
   "id": "4954b298-c0ae-417d-8d8b-8af1fbcc6c35",
   "metadata": {},
   "source": [
    "**Exercise 3 - Create a markdown cell for an introduction:**"
   ]
  },
  {
   "cell_type": "markdown",
   "id": "7b4479c0-8156-47be-859b-9bd8603c4696",
   "metadata": {},
   "source": [
    "In this notebook, Data Science Tools and Ecosystem are summarized.\n",
    "\n",
    "**objectives:**\n",
    "1. List popular languages for Data Science\n",
    "2. Create a markdown cell to list \n",
    "3. Create markdown cell with title\n",
    "4. Create a markdown cell to list data science libraries\n"
   ]
  },
  {
   "cell_type": "markdown",
   "id": "35cfdd74-f2ca-4d49-9a5d-a9ea31a0bf35",
   "metadata": {},
   "source": [
    "**Exercise 4 - Create a markdown cell to list data science languages**\n"
   ]
  },
  {
   "cell_type": "markdown",
   "id": "31d720c1-2d3c-4156-9e1a-4f23aada88b8",
   "metadata": {},
   "source": [
    "some of the popular languages that Data Scientists use are:\n",
    "|No#|**Data Science Languages**|\n",
    "|---|---|\n",
    "|1|**Python**|\n",
    "|2|**R**|\n",
    "|3|**Java**|\n",
    "|4|**Scala**|\n",
    "|5|**SQL**|"
   ]
  },
  {
   "cell_type": "markdown",
   "id": "01bb021d-cb78-4035-a501-13909b9985c3",
   "metadata": {},
   "source": [
    "**Exercise 5 - Create a markdown cell to list data science libraries**"
   ]
  },
  {
   "cell_type": "markdown",
   "id": "6e149782-c5c6-40ec-b706-943c7a25fc7c",
   "metadata": {},
   "source": [
    "Some of the commonly used libraries used by Data Scientists include:"
   ]
  },
  {
   "cell_type": "markdown",
   "id": "fa890d49-8fb4-4915-8712-1da9daf25e3a",
   "metadata": {},
   "source": [
    "|No#|**ordered list**|\n",
    "|--|--|\n",
    "|1|**Numpy**|\n",
    "|2|**Pandas**|\n",
    "|3|**Matplotlib**|\n",
    "|4|**Seaborn**|\n",
    "|5|**Scikit-Learn**|\n"
   ]
  },
  {
   "cell_type": "markdown",
   "id": "d6111790-3855-4e0a-815f-f1fa3099d523",
   "metadata": {},
   "source": [
    "**Exercise 6 - Create a markdown cell with a table of Data Science tools**"
   ]
  },
  {
   "cell_type": "markdown",
   "id": "7d0c8643-48a4-484e-8a38-8b4d36b62c2c",
   "metadata": {},
   "source": [
    "the table should indicate three development environment open source tools used in data science."
   ]
  },
  {
   "cell_type": "markdown",
   "id": "e909d656-0340-4ee3-ab8c-a64a78d002ba",
   "metadata": {},
   "source": [
    "|**Data Science Tools**|\n",
    "|--|\n",
    "|Watson Studio|\n",
    "|H2O Driverless AI|\n",
    "|Apache AirFlow|\n",
    "|MySQL|\n",
    "|Git|\n",
    "|GitLab|\n",
    "|GitHub|"
   ]
  },
  {
   "cell_type": "markdown",
   "id": "0fc89a7d-a4f4-4308-8ea7-4c53830b19e7",
   "metadata": {},
   "source": [
    "**Exercise 7 - Create a markdown cell introducing arithmetic expression examples**\n",
    "\n",
    "Add a line in this cell with H3 style heading with text like:"
   ]
  },
  {
   "cell_type": "markdown",
   "id": "d9f0ec94-3612-47d6-a841-8e90eae6c9de",
   "metadata": {},
   "source": [
    "### Below are a few examples of evaluating arithmetic expressions in Python"
   ]
  },
  {
   "cell_type": "markdown",
   "id": "9046e475-8318-45ad-8c9e-5d4b512c5fc4",
   "metadata": {},
   "source": [
    "**Exercise 8 - Create a code cell to multiply and add numbers**\n",
    "\n",
    "This a simple arithmetic expression to mutiply then add integers"
   ]
  },
  {
   "cell_type": "code",
   "execution_count": 40,
   "id": "0246636a-869b-4224-ac74-bdaa04a28ba8",
   "metadata": {},
   "outputs": [
    {
     "data": {
      "text/plain": [
       "17"
      ]
     },
     "execution_count": 40,
     "metadata": {},
     "output_type": "execute_result"
    }
   ],
   "source": [
    "(3*4)+5"
   ]
  },
  {
   "cell_type": "markdown",
   "id": "c94abbb9-887a-4a49-95ec-62656d53ebb3",
   "metadata": {},
   "source": [
    "**Exercise 9 - Create a code cell to convert minutes to hours**\n",
    "\n",
    "This will convert 200 minutes to hours by diving by 60"
   ]
  },
  {
   "cell_type": "code",
   "execution_count": 47,
   "id": "89497197-37bc-4d71-a26b-8eb312c5610d",
   "metadata": {},
   "outputs": [
    {
     "data": {
      "text/plain": [
       "3.3333333333333335"
      ]
     },
     "execution_count": 47,
     "metadata": {},
     "output_type": "execute_result"
    }
   ],
   "source": [
    "200/60"
   ]
  },
  {
   "cell_type": "code",
   "execution_count": 51,
   "id": "a92bd190-6b26-4b81-8b08-ae308a3e0fb1",
   "metadata": {},
   "outputs": [
    {
     "data": {
      "text/plain": [
       "3"
      ]
     },
     "execution_count": 51,
     "metadata": {},
     "output_type": "execute_result"
    }
   ],
   "source": [
    "200//60"
   ]
  },
  {
   "cell_type": "markdown",
   "id": "90c4465b-97b7-4112-b7cc-5df0ed1aa3d0",
   "metadata": {},
   "source": [
    "**Exercise 11 - Create a markdown cell to indicate the Author's name**\n"
   ]
  },
  {
   "cell_type": "markdown",
   "id": "0de09d34-070d-48d5-b8e4-0ebe25fe263b",
   "metadata": {},
   "source": [
    "## Author \n",
    "\n",
    "Mostafa Abdelahman\n"
   ]
  },
  {
   "cell_type": "code",
   "execution_count": null,
   "id": "bf91a166-3376-4270-85db-8a075c94fbdb",
   "metadata": {},
   "outputs": [],
   "source": []
  }
 ],
 "metadata": {
  "kernelspec": {
   "display_name": "anaconda-panel-2023.05-py310",
   "language": "python",
   "name": "conda-env-anaconda-panel-2023.05-py310-py"
  },
  "language_info": {
   "codemirror_mode": {
    "name": "ipython",
    "version": 3
   },
   "file_extension": ".py",
   "mimetype": "text/x-python",
   "name": "python",
   "nbconvert_exporter": "python",
   "pygments_lexer": "ipython3",
   "version": "3.11.5"
  }
 },
 "nbformat": 4,
 "nbformat_minor": 5
}
